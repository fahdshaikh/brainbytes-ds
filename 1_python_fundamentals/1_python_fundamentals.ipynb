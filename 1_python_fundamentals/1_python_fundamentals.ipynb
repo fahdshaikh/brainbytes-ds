{
 "cells": [
  {
   "cell_type": "markdown",
   "metadata": {},
   "source": [
    "# 🐍 Module 1 — Python Fundamentals\n",
    "\n",
    "**⏱️ Time**: 2-3 hours | **🎯 Difficulty**: 🟢 Beginner\n",
    "\n",
    "## 📱 30-Second Summary\n",
    "**Learn Python for data science in 3 hours.** Master variables, strings, functions, and data structures through real examples like cleaning customer data and handling errors. Skip \"hello world\" — go straight to practical skills you'll use daily in data work.\n",
    "\n",
    "**🎯 You'll build**: Text cleaning functions, error-handling data processors, and reusable code patterns."
   ]
  },
  {
   "cell_type": "markdown",
   "metadata": {},
   "source": [
    "## 🚀 Quick Start Options\n",
    "\n",
    "**Choose your learning style:**\n",
    "\n",
    "1. **📓 Interactive Learning** (Recommended): Run each cell below step-by-step\n",
    "2. **🎬 Full Demo**: Run the complete script first, then experiment\n",
    "3. **🧪 Playground First**: Jump straight to experimentation"
   ]
  },
  {
   "cell_type": "markdown",
   "metadata": {},
   "source": [
    "---\n",
    "\n",
    "# 📖 Core Concepts\n",
    "\n",
    "Let's learn Python the practical way - with real examples you'll actually use!"
   ]
  },
  {
   "cell_type": "markdown",
   "metadata": {},
   "source": [
    "## 🔢 Variables and Data Types\n",
    "\n",
    "Python is **dynamically typed** - it figures out data types automatically. This makes it beginner-friendly!"
   ]
  },
  {
   "cell_type": "code",
   "execution_count": null,
   "metadata": {},
   "outputs": [],
   "source": [
    "# 🎯 Real-world example: Customer data\n",
    "customer_name = \"Alice Johnson\"  # str (string) - any text\n",
    "customer_age = 28                  # int (integer) - whole numbers\n",
    "account_balance = 1250.75         # float - decimal numbers\n",
    "is_premium = True                  # bool (boolean) - True/False\n",
    "\n",
    "# 🎨 f-strings: Modern way to format text\n",
    "print(f\"👋 Customer: {customer_name}\")\n",
    "print(f\"💰 Balance: ${account_balance:,.2f}\")  # :,.2f adds commas + 2 decimals\n",
    "print(f\"⭐ Premium: {is_premium}\")\n",
    "\n",
    "# 🔍 Check data types\n",
    "print(f\"\\n📊 Data Types:\")\n",
    "print(f\"'{customer_name}' is a {type(customer_name).__name__}\")\n",
    "print(f\"{customer_age} is an {type(customer_age).__name__}\")\n",
    "print(f\"{account_balance} is a {type(account_balance).__name__}\")\n",
    "print(f\"{is_premium} is a {type(is_premium).__name__}\")"
   ]
  },
  {
   "cell_type": "markdown",
   "metadata": {},
   "source": [
    "## 🧵 String Manipulation\n",
    "\n",
    "**Why strings matter in data science**: Real data is messy! Names come as \"john\", \"JOHN\", \"  John  \". String methods clean this up."
   ]
  },
  {
   "cell_type": "code",
   "execution_count": null,
   "metadata": {},
   "outputs": [],
   "source": [
    "# 🧹 Common data cleaning scenario\n",
    "messy_name = \"  john doe  \"\n",
    "messy_company = \"DATA CORP\"\n",
    "messy_email = \"JOHN.DOE@COMPANY.COM\"\n",
    "\n",
    "# 🎯 String methods that save your life\n",
    "clean_name = messy_name.strip().title()  # Remove spaces, capitalize properly\n",
    "clean_company = messy_company.title()    # Fix capitalization\n",
    "clean_email = messy_email.lower()        # Emails should be lowercase\n",
    "\n",
    "print(\"🧹 Before and After:\")\n",
    "print(f\"Name: '{messy_name}' → '{clean_name}'\")\n",
    "print(f\"Company: '{messy_company}' → '{clean_company}'\")\n",
    "print(f\"Email: '{messy_email}' → '{clean_email}')\")\n",
    "\n",
    "# 🔀 Split and join - super useful for data processing\n",
    "full_name = \"Alice Johnson Smith\"\n",
    "name_parts = full_name.split(\" \")  # Split into list\n",
    "first_name = name_parts[0]\n",
    "last_name = name_parts[-1]  # -1 gets the last item\n",
    "\n",
    "print(f\"\\n✂️ Name splitting:\")\n",
    "print(f\"Full name: {full_name}\")\n",
    "print(f\"Parts: {name_parts}\")\n",
    "print(f\"First: {first_name}, Last: {last_name}\")"
   ]
  },
  {
   "cell_type": "markdown",
   "metadata": {},
   "source": [
    "## 🗂️ Data Structures\n",
    "\n",
    "Choose the right tool for the job! Each data structure has a specific purpose."
   ]
  },
  {
   "cell_type": "code",
   "execution_count": null,
   "metadata": {},
   "outputs": [],
   "source": [
    "# 📋 Lists: Ordered, allows duplicates (like a to-do list)\n",
    "shopping_list = ['apples', 'bread', 'milk', 'apples']  # Duplicates OK\n",
    "shopping_list.append('eggs')  # Add item\n",
    "print(f\"🛒 Shopping: {shopping_list}\")\n",
    "\n",
    "# 🎯 Sets: Unique items only (like a membership roster)\n",
    "unique_customers = {'Alice', 'Bob', 'Alice', 'Charlie'}  # No duplicates\n",
    "unique_customers.add('Diana')  # Add member\n",
    "print(f\"👥 Unique customers: {unique_customers}\")\n",
    "\n",
    "# 🗃️ Dictionaries: Key-value pairs (like a phone book)\n",
    "customer_info = {\n",
    "    'name': 'Alice Johnson',\n",
    "    'age': 28,\n",
    "    'city': 'New York',\n",
    "    'premium': True\n",
    "}\n",
    "customer_info['email'] = 'alice@email.com'  # Add new info\n",
    "print(f\"📇 Customer: {customer_info}\")\n",
    "print(f\"📧 Email: {customer_info['email']}\")\n",
    "\n",
    "# 📍 Tuples: Immutable coordinates (like GPS coordinates)\n",
    "office_location = (40.7128, -74.0060)  # (latitude, longitude)\n",
    "print(f\"🌍 Office location: {office_location}\")"
   ]
  },
  {
   "cell_type": "markdown",
   "metadata": {},
   "source": [
    "## 🔀 Control Flow\n",
    "\n",
    "Make decisions and repeat tasks - the foundation of all programming logic."
   ]
  },
  {
   "cell_type": "code",
   "execution_count": null,
   "metadata": {},
   "outputs": [],
   "source": [
    "# 🎯 Real business logic example\n",
    "account_balance = 1250.75\n",
    "transaction_amount = 200.00\n",
    "\n",
    "# 🔍 if/elif/else for decision making\n",
    "if account_balance >= transaction_amount:\n",
    "    new_balance = account_balance - transaction_amount\n",
    "    print(f\"✅ Transaction approved! New balance: ${new_balance:,.2f}\")\n",
    "elif account_balance >= transaction_amount * 0.9:  # 90% coverage\n",
    "    print(f\"⚠️ Low balance warning! Current: ${account_balance:,.2f}\")\n",
    "else:\n",
    "    print(f\"❌ Transaction declined! Insufficient funds.\")\n",
    "\n",
    "# 🔄 Loops for automation\n",
    "print(f\"\\n📊 Processing transactions...\")\n",
    "transactions = [100, 250, 75, 500, 150]\n",
    "\n",
    "total_processed = 0\n",
    "for amount in transactions:\n",
    "    total_processed += amount\n",
    "    print(f\"💳 Processed: ${amount:,.2f} (Running total: ${total_processed:,.2f})\")\n",
    "\n",
    "print(f\"\\n💰 Total transactions processed: ${total_processed:,.2f}\")"
   ]
  },
  {
   "cell_type": "markdown",
   "metadata": {},
   "source": [
    "## ⚙️ Functions\n",
    "\n",
    "Write reusable code that does one thing well. Functions are the building blocks of clean, maintainable code."
   ]
  },
  {
   "cell_type": "code",
   "execution_count": null,
   "metadata": {},
   "outputs": [],
   "source": [
    "# 🧹 Real data cleaning function\n",
    "def clean_customer_name(raw_name, default=\"Unknown\"):\n",
    "    \"\"\"\n",
    "    Clean and standardize customer names.\n",
    "    Args: raw_name (str), default (str)\n",
    "    Returns: str (cleaned name)\n",
    "    \"\"\"\n",
    "    if not raw_name or not raw_name.strip():\n",
    "        return default\n",
    "    \n",
    "    # Clean: remove extra spaces, proper capitalization\n",
    "    cleaned = raw_name.strip().title()\n",
    "    \n",
    "    # Remove multiple spaces\n",
    "    while '  ' in cleaned:\n",
    "        cleaned = cleaned.replace('  ', ' ')\n",
    "    \n",
    "    return cleaned\n",
    "\n",
    "# 🧪 Test the function with messy data\n",
    "messy_names = [\"  alice   johnson  \", \"BOB SMITH\", \"\", \"   \", \"charlie brown\"]\n",
    "\n",
    "print(\"🧹 Name cleaning results:\")\n",
    "for name in messy_names:\n",
    "    clean = clean_customer_name(name)\n",
    "    print(f\"'{name}' → '{clean}'\")"
   ]
  },
  {
   "cell_type": "markdown",
   "metadata": {},
   "source": [
    "## 🛡️ Error Handling\n",
    "\n",
    "Real data is messy and unpredictable. Handle errors gracefully to prevent crashes."
   ]
  },
  {
   "cell_type": "code",
   "execution_count": null,
   "metadata": {},
   "outputs": [],
   "source": [
    "# 🎯 Real scenario: Converting user input to numbers\n",
    "def safe_number_convert(value, default=0):\n",
    "    \"\"\"Safely convert messy input to numbers\"\"\"\n",
    "    try:\n",
    "        # Try to convert to float first (handles ints too)\n",
    "        return float(value)\n",
    "    except ValueError:\n",
    "        print(f\"⚠️ Could not convert '{value}' to number, using {default}\")\n",
    "        return default\n",
    "    except Exception as e:\n",
    "        print(f\"❌ Unexpected error: {e}\")\n",
    "        return default\n",
    "\n",
    "# 🧪 Test with realistic messy data\n",
    "messy_data = [\"123.45\", \"67\", \"abc\", \"\", \"45.67x\", None, \"99.99\"]\n",
    "\n",
    "print(\"🔢 Number conversion results:\")\n",
    "total = 0\n",
    "for item in messy_data:\n",
    "    number = safe_number_convert(item)\n",
    "    total += number\n",
    "    print(f\"Input: {item} → Output: {number}\")\n",
    "\n",
    "print(f\"\\n💰 Total: ${total:,.2f}\")"
   ]
  },
  {
   "cell_type": "markdown",
   "metadata": {},
   "source": [
    "---\n",
    "\n",
    "# 🧪 Your Playground\n",
    "\n",
    "**Time to experiment!** Try modifying the examples above or create your own:"
   ]
  },
  {
   "cell_type": "code",
   "execution_count": null,
   "metadata": {},
   "outputs": [],
   "source": [
    "# 🎮 Playground 1: Customer data processing\n",
    "# Try changing the values and see what happens!\n",
    "\n",
    "customer = {\n",
    "    'name': '  JANE   DOE  ',\n",
    "    'email': 'JANE.DOE@COMPANY.COM',\n",
    "    'age': '25',  # Note: this is a string!\n",
    "    'balance': '1500.75'\n",
    "}\n",
    "\n",
    "# Clean up the data\n",
    "clean_customer = {\n",
    "    'name': customer['name'].strip().title(),\n",
    "    'email': customer['email'].lower(),\n",
    "    'age': int(customer['age']),\n",
    "    'balance': float(customer['balance'])\n",
    "}\n",
    "\n",
    "print(\"Before:\", customer)\n",
    "print(\"After:\", clean_customer)"
   ]
  },
  {
   "cell_type": "code",
   "execution_count": null,
   "metadata": {},
   "outputs": [],
   "source": [
    "# 🎮 Playground 2: Build your own function\n",
    "# Create a function that generates email addresses from names\n",
    "\n",
    "def generate_email(first_name, last_name, domain=\"company.com\"):\n",
    "    \"\"\"\n",
    "    Generate professional email addresses\n",
    "    Example: generate_email('John', 'Doe') → 'john.doe@company.com'\n",
    "    \"\"\"\n",
    "    # Your code here! Try to:\n",
    "    # 1. Convert names to lowercase\n",
    "    # 2. Remove extra spaces\n",
    "    # 3. Combine with domain\n",
    "    \n",
    "    email = f\"{first_name.strip().lower()}.{last_name.strip().lower()}@{domain}\"\n",
    "    return email\n",
    "\n",
    "# Test your function\n",
    "test_names = [\n",
    "    ('Alice', 'Johnson'),\n",
    "    ('  BOB  ', '  SMITH  '),\n",
    "    ('Charlie', 'Brown')\n",
    "]\n",
    "\n",
    "print(\"📧 Generated emails:\")\n",
    "for first, last in test_names:\n",
    "    email = generate_email(first, last)\n",
    "    print(f\"{first} {last} → {email}\")"
   ]
  },
  {
   "cell_type": "code",
   "execution_count": null,
   "metadata": {},
   "outputs": [],
   "source": [
    "# 🎮 Playground 3: Free exploration\n",
    "# This cell is yours! Try anything you want:\n",
    "# - Create variables with your own data\n",
    "# - Write functions that solve real problems\n",
    "# - Practice string methods and data structures\n",
    "\n",
    "# Example: Analyze some text\n",
    "text = \"Python is awesome for data science and machine learning!\"\n",
    "\n",
    "print(f\"Original: {text}\")\n",
    "print(f\"Length: {len(text)} characters\")\n",
    "print(f\"Words: {len(text.split())} words\")\n",
    "print(f\"Uppercase: {text.upper()}\")\n",
    "\n",
    "# Your turn! Add your own experiments below:\n",
    "\n"
   ]
  },
  {
   "cell_type": "markdown",
   "metadata": {},
   "source": [
    "---\n",
    "\n",
    "# 🎯 Practice Challenges\n",
    "\n",
    "Ready to test your skills? Try these realistic scenarios:"
   ]
  },
  {
   "cell_type": "code",
   "execution_count": null,
   "metadata": {},
   "outputs": [],
   "source": [
    "# 🥉 Challenge 1: Email validator\n",
    "# Write a function that checks if an email looks valid\n",
    "# (contains @ and a domain)\n",
    "\n",
    "def is_valid_email(email):\n",
    "    \"\"\"\n",
    "    Basic email validation\n",
    "    Should return True for valid emails, False otherwise\n",
    "    \"\"\"\n",
    "    # Your code here!\n",
    "    # Hints: Check for '@' and '.' in the right places\n",
    "    pass  # Replace this with your solution\n",
    "\n",
    "# Test cases (uncomment when ready)\n",
    "# test_emails = ['user@domain.com', 'invalid.email', 'test@test', 'good@example.org']\n",
    "# for email in test_emails:\n",
    "#     result = is_valid_email(email)\n",
    "#     print(f'{email} → {result}')"
   ]
  },
  {
   "cell_type": "code",
   "execution_count": null,
   "metadata": {},
   "outputs": [],
   "source": [
    "# 🥈 Challenge 2: Data aggregator\n",
    "# Calculate total sales by region from messy data\n",
    "\n",
    "sales_data = [\n",
    "    {'region': '  North  ', 'amount': '1000.50'},\n",
    "    {'region': 'SOUTH', 'amount': '750.25'},\n",
    "    {'region': 'north', 'amount': '500.00'},\n",
    "    {'region': 'South  ', 'amount': '1200.75'},\n",
    "    {'region': 'EAST', 'amount': '800.00'},\n",
    "    {'region': 'east', 'amount': '650.50'}\n",
    "]\n",
    "\n",
    "# Your task: Clean the data and sum by region\n",
    "# Expected output: {'North': 1500.50, 'South': 1951.00, 'East': 1450.50}\n",
    "\n",
    "def aggregate_sales(data):\n",
    "    \"\"\"Aggregate sales data by region\"\"\"\n",
    "    results = {}\n",
    "    # Your code here!\n",
    "    # Hints: Clean region names, convert amounts to float, sum by region\n",
    "    return results\n",
    "\n",
    "# Test your function\n",
    "# totals = aggregate_sales(sales_data)\n",
    "# print('Sales by region:', totals)"
   ]
  },
  {
   "cell_type": "code",
   "execution_count": null,
   "metadata": {},
   "outputs": [],
   "source": [
    "# 🥇 Challenge 3: Error-proof CSV processor\n",
    "# Process a list of customer records, handling all possible errors\n",
    "\n",
    "messy_customers = [\n",
    "    'Alice,28,alice@email.com,1500.75',\n",
    "    'Bob,thirty,bob.email.com,abc',\n",
    "    'Charlie,,charlie@test.com,2500.00',\n",
    "    ',25,diana@email.com,1000.50',\n",
    "    'Eve,22,eve@email.com'  # Missing balance\n",
    "]\n",
    "\n",
    "def process_customers(raw_data):\n",
    "    \"\"\"\n",
    "    Process messy customer data with full error handling\n",
    "    Return list of clean customer dictionaries\n",
    "    \"\"\"\n",
    "    clean_customers = []\n",
    "    \n",
    "    # Your code here!\n",
    "    # Handle: missing fields, invalid data types, malformed emails\n",
    "    # Use try/except blocks and provide sensible defaults\n",
    "    \n",
    "    return clean_customers\n",
    "\n",
    "# Test your function\n",
    "# processed = process_customers(messy_customers)\n",
    "# for customer in processed:\n",
    "#     print(customer)"
   ]
  },
  {
   "cell_type": "markdown",
   "metadata": {},
   "source": [
    "---\n",
    "\n",
    "# 📚 Quick Reference Cheat Sheet\n",
    "\n",
    "Keep this handy while you code!"
   ]
  },
  {
   "cell_type": "markdown",
   "metadata": {},
   "source": [
    "## 🧵 Essential String Methods\n",
    "```python\n",
    "# Clean messy text (use these daily!)\n",
    "name = \"  JOHN DOE  \"\n",
    "clean = name.strip().title()  # \"John Doe\"\n",
    "email = name.lower().replace(\" \", \".\") + \"@company.com\"\n",
    "\n",
    "# Split and join\n",
    "words = \"apple,banana,orange\".split(\",\")  # ['apple', 'banana', 'orange']\n",
    "sentence = \" \".join(words)  # \"apple banana orange\"\n",
    "```"
   ]
  },
  {
   "cell_type": "markdown",
   "metadata": {},
   "source": [
    "## 🗂️ Data Structure Quick Picks\n",
    "```python\n",
    "# When to use what:\n",
    "my_list = [1, 2, 3, 2]        # Order matters, allows duplicates\n",
    "my_set = {1, 2, 3}            # Unique items only, fast lookups\n",
    "my_dict = {\"key\": \"value\"}    # Key-value pairs, fast access\n",
    "my_tuple = (1, 2, 3)          # Immutable, perfect for coordinates\n",
    "```"
   ]
  },
  {
   "cell_type": "markdown",
   "metadata": {},
   "source": [
    "## 🛡️ Error Handling Pattern\n",
    "```python\n",
    "# Always use this pattern for data processing\n",
    "try:\n",
    "    result = risky_operation(data)\n",
    "except ValueError as e:\n",
    "    print(f\"Data error: {e}\")\n",
    "    result = default_value\n",
    "except Exception as e:\n",
    "    print(f\"Unexpected error: {e}\")\n",
    "    result = None\n",
    "```"
   ]
  },
  {
   "cell_type": "markdown",
   "metadata": {},
   "source": [
    "---\n",
    "\n",
    "# ✅ Self-Assessment\n",
    "\n",
    "**🟢 Beginner Checkpoints**:\n",
    "- [ ] I can create and use variables of different types\n",
    "- [ ] I can clean messy text data using string methods\n",
    "- [ ] I can choose the right data structure for different tasks\n",
    "- [ ] I can write functions with proper error handling\n",
    "\n",
    "**🟡 Intermediate Challenges**:\n",
    "- [ ] I can process real messy datasets without crashing\n",
    "- [ ] I can build reusable functions for data cleaning\n",
    "- [ ] I can handle edge cases and unexpected input gracefully\n",
    "- [ ] I can debug my own code when things go wrong\n",
    "\n",
    "**Ready for Module 2?** ✅ You should feel confident with strings, functions, and basic error handling!\n",
    "\n",
    "---\n",
    "\n",
    "## 🚀 Next Steps\n",
    "\n",
    "**Congratulations!** 🎉 You've mastered Python fundamentals!\n",
    "\n",
    "**Continue your journey:**\n",
    "- 📊 **[Module 2: Data Manipulation](../2_data_manipulation/)** - Master NumPy & Pandas\n",
    "- 📈 **[Module 3: Data Visualization](../3_data_visualization/)** - Create stunning charts\n",
    "- 🤖 **[Module 4: Statistics & ML](../4_statistics_ml/)** - Build predictive models\n",
    "\n",
    "**Keep practicing!** The best way to learn programming is by doing. Try building small projects with what you've learned."
   ]
  }
 ],
 "metadata": {
  "kernelspec": {
   "display_name": "Python 3",
   "language": "python",
   "name": "python3"
  },
  "language_info": {
   "name": "python",
   "pygments_lexer": "ipython3",
   "version": "3.11"
  }
 },
 "nbformat": 4,
 "nbformat_minor": 5
}

