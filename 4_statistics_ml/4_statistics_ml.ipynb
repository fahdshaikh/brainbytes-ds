{
 "cells": [
  {
   "cell_type": "markdown",
   "metadata": {},
   "source": [
    "# 🤖 Module 4 — Statistics & Machine Learning\n",
    "\n",
    "> Build predictive models that actually work. Learn the statistics behind ML and create end-to-end pipelines."
   ]
  },
  {
   "cell_type": "markdown",
   "metadata": {},
   "source": [
    "## 🚀 How to use this notebook\n",
    "- Run the cell below to execute the complete ML pipeline lesson.\n",
    "- Model outputs and evaluation metrics will display inline.\n",
    "- Use the Playground section to experiment with different algorithms."
   ]
  },
  {
   "cell_type": "code",
   "execution_count": null,
   "metadata": {
    "tags": [
     "hide-input"
    ]
   },
   "outputs": [],
   "source": [
    "# 🔁 Run the original script (source of truth)\n",
    "%run 4_statistics_ml.py"
   ]
  },
  {
   "cell_type": "markdown",
   "metadata": {},
   "source": [
    "## 🧪 Playground\n",
    "Try different algorithms, feature engineering techniques, and evaluation approaches."
   ]
  },
  {
   "cell_type": "code",
   "execution_count": null,
   "metadata": {},
   "outputs": [],
   "source": [
    "from sklearn.datasets import make_classification\n",
    "from sklearn.model_selection import train_test_split\n",
    "from sklearn.linear_model import LogisticRegression\n",
    "from sklearn.metrics import accuracy_score, classification_report\n",
    "import pandas as pd\n",
    "\n",
    "# Create sample classification problem\n",
    "X, y = make_classification(n_samples=1000, n_features=4, n_classes=2, random_state=42)\n",
    "X_train, X_test, y_train, y_test = train_test_split(X, y, test_size=0.2, random_state=42)\n",
    "\n",
    "# Train simple model\n",
    "model = LogisticRegression(random_state=42)\n",
    "model.fit(X_train, y_train)\n",
    "\n",
    "# Evaluate\n",
    "y_pred = model.predict(X_test)\n",
    "accuracy = accuracy_score(y_test, y_pred)\n",
    "\n",
    "print(f'🎯 Accuracy: {accuracy:.3f}')\n",
    "print('\\n📊 Detailed Report:')\n",
    "print(classification_report(y_test, y_pred))\n",
    "print('\\n💡 Try changing the algorithm to RandomForest or SVM!')"
   ]
  },
  {
   "cell_type": "markdown",
   "metadata": {},
   "source": [
    "## 🎯 Practice Tasks (Professional ML)\n",
    "- Build a complete pipeline: data loading → cleaning → feature engineering → model → evaluation.\n",
    "- Compare multiple algorithms (Linear, Tree, Ensemble) on the same dataset.\n",
    "- Implement cross-validation to get robust performance estimates.\n",
    "- Create feature importance plots to understand what drives predictions."
   ]
  },
  {
   "cell_type": "markdown",
   "metadata": {},
   "source": [
    "## ✅ Before you move on\n",
    "- [ ] I understand the difference between regression and classification.\n",
    "- [ ] I can split data properly (train/validation/test).\n",
    "- [ ] I know how to evaluate models (accuracy, precision, recall, F1).\n",
    "- [ ] I can identify and handle overfitting.\n",
    "- [ ] I understand when to use different ML algorithms."
   ]
  }
 ],
 "metadata": {
  "kernelspec": {
   "display_name": "Python 3",
   "language": "python",
   "name": "python3"
  },
  "language_info": {
   "name": "python",
   "pygments_lexer": "ipython3",
   "version": "3.11"
  }
 },
 "nbformat": 4,
 "nbformat_minor": 5
}
