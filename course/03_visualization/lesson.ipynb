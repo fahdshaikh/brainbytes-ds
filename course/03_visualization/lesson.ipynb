{
 "cells": [
  {
   "cell_type": "markdown",
   "metadata": {},
   "source": [
    "# 📈 Module 3 — Data Visualization\n",
    "\n",
    "> Turn numbers into insights. Create beautiful, meaningful charts that tell your data's story."
   ]
  },
  {
   "cell_type": "markdown",
   "metadata": {},
   "source": [
    "## 🚀 How to use this notebook\n",
    "- Run the cell below to see all visualization examples in action.\n",
    "- Charts will display inline (perfect for Colab and Jupyter).\n",
    "- Use the Playground section to create your own visualizations."
   ]
  },
  {
   "cell_type": "code",
   "execution_count": null,
   "metadata": {
    "tags": [
     "hide-input"
    ]
   },
   "outputs": [],
   "source": [
    "# 🔁 Run the original script (source of truth)\n",
    "%run 3_data_visualization.py"
   ]
  },
  {
   "cell_type": "markdown",
   "metadata": {},
   "source": [
    "## 🧪 Playground\n",
    "Experiment with different chart types, color schemes, and styling options."
   ]
  },
  {
   "cell_type": "code",
   "execution_count": null,
   "metadata": {},
   "outputs": [],
   "source": [
    "import matplotlib.pyplot as plt\n",
    "import seaborn as sns\n",
    "import pandas as pd\n",
    "import numpy as np\n",
    "\n",
    "# Quick chart example\n",
    "data = {\n",
    "    'Product': ['A', 'B', 'C', 'D'],\n",
    "    'Sales': [100, 150, 80, 200],\n",
    "    'Profit': [20, 30, 15, 50]\n",
    "}\n",
    "df = pd.DataFrame(data)\n",
    "\n",
    "# Create a simple bar chart\n",
    "plt.figure(figsize=(8, 5))\n",
    "plt.bar(df['Product'], df['Sales'], color='skyblue', alpha=0.7)\n",
    "plt.title('Sales by Product', fontsize=16)\n",
    "plt.xlabel('Product')\n",
    "plt.ylabel('Sales')\n",
    "plt.grid(axis='y', alpha=0.3)\n",
    "plt.show()\n",
    "\n",
    "print('💡 Try changing colors, chart types, or adding annotations!')"
   ]
  },
  {
   "cell_type": "markdown",
   "metadata": {},
   "source": [
    "## 🎯 Practice Tasks (Business Scenarios)\n",
    "- Create a dashboard showing monthly sales trends with annotations for key events.\n",
    "- Build a correlation heatmap to identify relationships between variables.\n",
    "- Design a multi-subplot figure comparing different metrics side-by-side.\n",
    "- Make an interactive chart (using plotly) for web sharing."
   ]
  },
  {
   "cell_type": "markdown",
   "metadata": {},
   "source": [
    "## ✅ Before you move on\n",
    "- [ ] I can create basic charts (line, bar, scatter, histogram).\n",
    "- [ ] I know when to use different chart types for different data.\n",
    "- [ ] I can customize colors, labels, titles, and styling.\n",
    "- [ ] I can create subplots to show multiple views.\n",
    "- [ ] I understand how to make charts accessible and professional."
   ]
  }
 ],
 "metadata": {
  "kernelspec": {
   "display_name": "Python 3",
   "language": "python",
   "name": "python3"
  },
  "language_info": {
   "name": "python",
   "pygments_lexer": "ipython3",
   "version": "3.11"
  }
 },
 "nbformat": 4,
 "nbformat_minor": 5
}
