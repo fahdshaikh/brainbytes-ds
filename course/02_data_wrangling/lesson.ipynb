{
 "cells": [
  {
   "cell_type": "markdown",
   "metadata": {},
   "source": [
    "# 📊 Module 2 — Data Manipulation with NumPy & Pandas\n",
    "\n",
    "> Your gateway to real data science work. Learn to clean, filter, group, and transform data like a pro."
   ]
  },
  {
   "cell_type": "markdown",
   "metadata": {},
   "source": [
    "## 🚀 How to use this notebook\n",
    "- Run the cell below to execute the full lesson from the Python script.\n",
    "- Use the Playground section to experiment with different datasets.\n",
    "- Complete the practice tasks to solidify your learning."
   ]
  },
  {
   "cell_type": "code",
   "execution_count": null,
   "metadata": {
    "tags": [
     "hide-input"
    ]
   },
   "outputs": [],
   "source": [
    "# 🔁 Run the original script (source of truth)\n",
    "%run 2_data_manipulation.py"
   ]
  },
  {
   "cell_type": "markdown",
   "metadata": {},
   "source": [
    "## 🧪 Playground\n",
    "Try creating your own data, experimenting with filters, groupby operations, and data cleaning."
   ]
  },
  {
   "cell_type": "code",
   "execution_count": null,
   "metadata": {},
   "outputs": [],
   "source": [
    "import pandas as pd\n",
    "import numpy as np\n",
    "\n",
    "# Create sample data\n",
    "data = {\n",
    "    'name': ['Alice', 'Bob', 'Charlie', 'Diana'],\n",
    "    'age': [25, 30, 35, 28],\n",
    "    'city': ['NYC', 'LA', 'Chicago', 'Boston'],\n",
    "    'salary': [70000, 80000, 90000, 75000]\n",
    "}\n",
    "df = pd.DataFrame(data)\n",
    "print(df)\n",
    "print('\\nAverage age:', df['age'].mean())\n",
    "print('High earners (>75k):', df[df['salary'] > 75000]['name'].tolist())"
   ]
  },
  {
   "cell_type": "markdown",
   "metadata": {},
   "source": [
    "## 🎯 Practice Tasks (Real-World Scenarios)\n",
    "- Load a messy CSV file and clean it (handle missing values, duplicates).\n",
    "- Group sales data by month and calculate total revenue per month.\n",
    "- Create a pivot table showing average performance by department and region.\n",
    "- Merge two datasets (employees + departments) and analyze combined metrics."
   ]
  },
  {
   "cell_type": "markdown",
   "metadata": {},
   "source": [
    "## ✅ Before you move on\n",
    "- [ ] I can load data from CSV/Excel and inspect its structure.\n",
    "- [ ] I can filter DataFrames using boolean indexing.\n",
    "- [ ] I can group data and apply aggregate functions (sum, mean, count).\n",
    "- [ ] I can handle missing values (fillna, dropna, interpolate).\n",
    "- [ ] I understand when to use NumPy vs Pandas."
   ]
  }
 ],
 "metadata": {
  "kernelspec": {
   "display_name": "Python 3",
   "language": "python",
   "name": "python3"
  },
  "language_info": {
   "name": "python",
   "pygments_lexer": "ipython3",
   "version": "3.11"
  }
 },
 "nbformat": 4,
 "nbformat_minor": 5
}
