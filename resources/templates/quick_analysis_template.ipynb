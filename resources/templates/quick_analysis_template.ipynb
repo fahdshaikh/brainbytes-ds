{
 "cells": [
  {
   "cell_type": "markdown",
   "metadata": {},
   "source": [
    "# 🚀 Quick Data Analysis Template\n",
    "\n",
    "Copy this notebook to start any data analysis project! Pre-configured with best practices and common patterns.\n",
    "\n",
    "**Usage**: Save as → Rename → Start analyzing!"
   ]
  },
  {
   "cell_type": "markdown",
   "metadata": {},
   "source": [
    "## 📦 Setup & Imports"
   ]
  },
  {
   "cell_type": "code",
   "execution_count": null,
   "metadata": {},
   "outputs": [],
   "source": [
    "# 🐼 Data manipulation\n",
    "import pandas as pd\n",
    "import numpy as np\n",
    "\n",
    "# 📊 Visualization  \n",
    "import matplotlib.pyplot as plt\n",
    "import seaborn as sns\n",
    "\n",
    "# ⚙️ Configuration\n",
    "plt.style.use('seaborn-v0_8')\n",
    "sns.set_palette(\"husl\")\n",
    "pd.set_option('display.max_columns', 20)\n",
    "pd.set_option('display.max_rows', 100)\n",
    "\n",
    "print(\"📚 Libraries loaded successfully!\")"
   ]
  },
  {
   "cell_type": "markdown",
   "metadata": {},
   "source": [
    "## 📥 Data Loading"
   ]
  },
  {
   "cell_type": "code",
   "execution_count": null,
   "metadata": {},
   "outputs": [],
   "source": [
    "# 📁 Load your data (update path)\n",
    "# df = pd.read_csv('your_data.csv')\n",
    "# df = pd.read_excel('your_data.xlsx')\n",
    "\n",
    "# 🧪 For demo purposes, create sample data\n",
    "np.random.seed(42)\n",
    "df = pd.DataFrame({\n",
    "    'date': pd.date_range('2023-01-01', periods=100),\n",
    "    'sales': np.random.normal(1000, 200, 100),\n",
    "    'category': np.random.choice(['A', 'B', 'C'], 100),\n",
    "    'region': np.random.choice(['North', 'South', 'East', 'West'], 100)\n",
    "})\n",
    "\n",
    "print(f\"📊 Data loaded: {len(df)} rows, {len(df.columns)} columns\")"
   ]
  },
  {
   "cell_type": "markdown",
   "metadata": {},
   "source": [
    "## 🔍 Quick Data Overview"
   ]
  },
  {
   "cell_type": "code",
   "execution_count": null,
   "metadata": {},
   "outputs": [],
   "source": [
    "# 📋 Basic info\n",
    "print(\"📏 Shape:\", df.shape)\n",
    "print(\"\\n📝 Column types:\")\n",
    "print(df.dtypes)\n",
    "print(\"\\n🕳️ Missing values:\")\n",
    "print(df.isnull().sum())\n",
    "\n",
    "# 👀 First few rows\n",
    "display(df.head())"
   ]
  },
  {
   "cell_type": "markdown",
   "metadata": {},
   "source": [
    "## 📊 Summary Statistics"
   ]
  },
  {
   "cell_type": "code",
   "execution_count": null,
   "metadata": {},
   "outputs": [],
   "source": [
    "# 🔢 Numerical summary\n",
    "print(\"📈 Numerical columns:\")\n",
    "display(df.describe())\n",
    "\n",
    "# 🏷️ Categorical summary\n",
    "print(\"\\n🏷️ Categorical columns:\")\n",
    "for col in df.select_dtypes(include=['object', 'category']).columns:\n",
    "    print(f\"\\n{col}:\")\n",
    "    print(df[col].value_counts())"
   ]
  },
  {
   "cell_type": "markdown",
   "metadata": {},
   "source": [
    "## 📈 Quick Visualizations"
   ]
  },
  {
   "cell_type": "code",
   "execution_count": null,
   "metadata": {},
   "outputs": [],
   "source": [
    "# 📊 Distribution plots\n",
    "fig, axes = plt.subplots(2, 2, figsize=(12, 10))\n",
    "fig.suptitle('📊 Quick Data Overview', fontsize=16)\n",
    "\n",
    "# Sales distribution\n",
    "axes[0, 0].hist(df['sales'], bins=20, alpha=0.7, color='skyblue')\n",
    "axes[0, 0].set_title('Sales Distribution')\n",
    "axes[0, 0].set_xlabel('Sales')\n",
    "axes[0, 0].set_ylabel('Frequency')\n",
    "\n",
    "# Category counts\n",
    "df['category'].value_counts().plot(kind='bar', ax=axes[0, 1], color='lightcoral')\n",
    "axes[0, 1].set_title('Category Distribution')\n",
    "axes[0, 1].tick_params(axis='x', rotation=45)\n",
    "\n",
    "# Time series (if date column exists)\n",
    "if 'date' in df.columns:\n",
    "    df.set_index('date')['sales'].plot(ax=axes[1, 0], color='green')\n",
    "    axes[1, 0].set_title('Sales Over Time')\n",
    "\n",
    "# Correlation heatmap\n",
    "numeric_cols = df.select_dtypes(include=[np.number]).columns\n",
    "if len(numeric_cols) > 1:\n",
    "    sns.heatmap(df[numeric_cols].corr(), annot=True, cmap='coolwarm', ax=axes[1, 1])\n",
    "    axes[1, 1].set_title('Correlation Matrix')\n",
    "\n",
    "plt.tight_layout()\n",
    "plt.show()"
   ]
  },
  {
   "cell_type": "markdown",
   "metadata": {},
   "source": [
    "## 🧹 Data Cleaning (Template)"
   ]
  },
  {
   "cell_type": "code",
   "execution_count": null,
   "metadata": {},
   "outputs": [],
   "source": [
    "# 🧹 Clean your data here\n",
    "df_clean = df.copy()\n",
    "\n",
    "# Remove duplicates\n",
    "before = len(df_clean)\n",
    "df_clean = df_clean.drop_duplicates()\n",
    "print(f\"🗑️ Removed {before - len(df_clean)} duplicates\")\n",
    "\n",
    "# Handle missing values (customize based on your data)\n",
    "# df_clean['column'].fillna(df_clean['column'].median(), inplace=True)\n",
    "# df_clean.dropna(subset=['important_column'], inplace=True)\n",
    "\n",
    "# Convert data types if needed\n",
    "# df_clean['date_column'] = pd.to_datetime(df_clean['date_column'])\n",
    "# df_clean['category_column'] = df_clean['category_column'].astype('category')\n",
    "\n",
    "print(f\"✅ Clean dataset: {len(df_clean)} rows, {len(df_clean.columns)} columns\")"
   ]
  },
  {
   "cell_type": "markdown",
   "metadata": {},
   "source": [
    "## 🎯 Analysis Section (Customize This!)"
   ]
  },
  {
   "cell_type": "code",
   "execution_count": null,
   "metadata": {},
   "outputs": [],
   "source": [
    "# 🔍 Your specific analysis goes here\n",
    "# Examples:\n",
    "\n",
    "# Group by analysis\n",
    "print(\"📊 Sales by Category:\")\n",
    "category_stats = df_clean.groupby('category')['sales'].agg(['mean', 'sum', 'count'])\n",
    "display(category_stats)\n",
    "\n",
    "# Create insights\n",
    "print(f\"\\n💡 Key Insights:\")\n",
    "print(f\"• Best performing category: {category_stats['mean'].idxmax()}\")\n",
    "print(f\"• Total sales: ${df_clean['sales'].sum():,.0f}\")\n",
    "print(f\"• Average daily sales: ${df_clean['sales'].mean():,.0f}\")"
   ]
  },
  {
   "cell_type": "markdown",
   "metadata": {},
   "source": [
    "## 📋 Next Steps & Conclusions\n",
    "\n",
    "**🎯 Key Findings:**\n",
    "- [ ] Finding #1\n",
    "- [ ] Finding #2  \n",
    "- [ ] Finding #3\n",
    "\n",
    "**🔮 Recommendations:**\n",
    "- [ ] Recommendation #1\n",
    "- [ ] Recommendation #2\n",
    "- [ ] Recommendation #3\n",
    "\n",
    "**🚀 Future Work:**\n",
    "- [ ] Additional analysis needed\n",
    "- [ ] Data to collect\n",
    "- [ ] Models to build\n"
   ]
  }
 ],
 "metadata": {
  "kernelspec": {
   "display_name": "Python 3",
   "language": "python", 
   "name": "python3"
  },
  "language_info": {
   "name": "python",
   "pygments_lexer": "ipython3",
   "version": "3.11"
  }
 },
 "nbformat": 4,
 "nbformat_minor": 4
}
